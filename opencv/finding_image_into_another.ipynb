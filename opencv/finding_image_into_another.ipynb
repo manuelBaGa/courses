{
 "cells": [
  {
   "cell_type": "code",
   "execution_count": 38,
   "metadata": {},
   "outputs": [],
   "source": [
    "import cv2\n",
    "import numpy as np"
   ]
  },
  {
   "cell_type": "code",
   "execution_count": 45,
   "metadata": {},
   "outputs": [
    {
     "data": {
      "text/plain": [
       "True"
      ]
     },
     "execution_count": 45,
     "metadata": {},
     "output_type": "execute_result"
    }
   ],
   "source": [
    "# Read the images from the file\n",
    "small_image = cv2.imread('./images/bulletin_board_close_cross.png')\n",
    "large_image = cv2.imread('./images/no_cross.png')\n",
    "large_image = cv2.imread('./images/bulletin_board.png')\n",
    "method = cv2.TM_SQDIFF_NORMED\n",
    "\n",
    "w, h = small_image.shape[:-1]\n",
    "\n",
    "res = cv2.matchTemplate(large_image, small_image, cv2.TM_CCOEFF_NORMED)\n",
    "threshold = .8\n",
    "loc = np.where(res >= threshold)\n",
    "for pt in zip(*loc[::-1]):  # Switch columns and rows\n",
    "    cv2.rectangle(large_image, pt, (pt[0] + w, pt[1] + h), (0, 0, 255), 2)\n",
    "\n",
    "# Display the original image with the rectangle around the match.\n",
    "cv2.imwrite('./images/output.png',large_image)\n",
    "\n",
    "\n"
   ]
  },
  {
   "cell_type": "code",
   "execution_count": 46,
   "metadata": {},
   "outputs": [
    {
     "data": {
      "text/plain": [
       "(array([], dtype=int64), array([], dtype=int64))"
      ]
     },
     "execution_count": 46,
     "metadata": {},
     "output_type": "execute_result"
    }
   ],
   "source": [
    "loc"
   ]
  },
  {
   "cell_type": "code",
   "execution_count": null,
   "metadata": {},
   "outputs": [],
   "source": []
  }
 ],
 "metadata": {
  "kernelspec": {
   "display_name": "Python 3",
   "language": "python",
   "name": "python3"
  },
  "language_info": {
   "codemirror_mode": {
    "name": "ipython",
    "version": 3
   },
   "file_extension": ".py",
   "mimetype": "text/x-python",
   "name": "python",
   "nbconvert_exporter": "python",
   "pygments_lexer": "ipython3",
   "version": "3.11.7"
  }
 },
 "nbformat": 4,
 "nbformat_minor": 2
}
