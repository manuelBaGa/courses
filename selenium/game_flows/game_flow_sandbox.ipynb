{
 "cells": [
  {
   "cell_type": "code",
   "execution_count": 49,
   "metadata": {},
   "outputs": [],
   "source": [
    "import time\n",
    "import configparser\n",
    "from selenium import webdriver\n",
    "from selenium.webdriver import ActionChains\n",
    "from selenium.webdriver.common.by import By\n",
    "from selenium.webdriver.chrome.service import Service\n",
    "from selenium.webdriver.chrome.options import Options\n",
    "from selenium.webdriver.support.wait import WebDriverWait\n",
    "from selenium.webdriver.support import expected_conditions as EC\n"
   ]
  },
  {
   "cell_type": "code",
   "execution_count": 50,
   "metadata": {},
   "outputs": [],
   "source": [
    "config = configparser.ConfigParser()\n",
    "config.read('./config.ini')\n",
    "\n",
    "home = config['WEB']['HOME']\n",
    "game_link = config['WEB']['GAME_LINK']\n",
    "email = config['ACCOUNT']['EMAIL']\n",
    "password = config['ACCOUNT']['PASSWORD']\n",
    "\n",
    "## CONFIGURATIONS\n",
    "# se: selenium\n",
    "se_service = Service()\n",
    "chrome_options = Options()\n",
    "chrome_options.add_argument(\"--incognito\")"
   ]
  },
  {
   "cell_type": "code",
   "execution_count": 52,
   "metadata": {},
   "outputs": [],
   "source": [
    "## Page elements\n",
    "\n",
    "#Landing page: lnd\n",
    "lnd_login_main_btn = (By.XPATH, \"//div/span[text()='Login']\")\n",
    "lnd_login_email = (By.XPATH, \"//input[@name='email']\" )\n",
    "lnd_login_password = (By.XPATH, \"//input[@name='password' and not(@autocomplete='new-password')]\")\n",
    "lnd_login_secondary_btn = (By.XPATH, \"//button/span[text()='Login']\")\n",
    "lnd_rewards_calendar_icon = (By.XPATH, \"//div[@data-modal='daily-rewards-calendar']\")\n",
    "lnd_claim_reward_btn = (By.XPATH, \"//button[text()=' Claim Reward ']\")\n",
    "\n",
    "#Game iframe\n",
    "start_iframe = (By.XPATH,\"//iframe\")"
   ]
  },
  {
   "cell_type": "code",
   "execution_count": 145,
   "metadata": {},
   "outputs": [
    {
     "name": "stdout",
     "output_type": "stream",
     "text": [
      "login_complete\n"
     ]
    }
   ],
   "source": [
    "## Create driver\n",
    "driver = webdriver.Chrome(service= se_service, options= chrome_options)\n",
    "wait = WebDriverWait(driver, 10)\n",
    "action = ActionChains(driver)\n",
    "\n",
    "login_flow()\n",
    "driver.get(game_link)\n"
   ]
  },
  {
   "cell_type": "code",
   "execution_count": 54,
   "metadata": {},
   "outputs": [],
   "source": [
    "#LOGIN FLOW\n",
    "#Click in Login\n",
    "def login_flow():\n",
    "    driver.maximize_window()\n",
    "    driver.get(home)\n",
    "    wait.until(EC.presence_of_element_located(lnd_login_main_btn))\n",
    "    driver.find_element(*lnd_login_main_btn).click()\n",
    "    #Fill email\n",
    "    wait.until(EC.presence_of_element_located(lnd_login_email))\n",
    "    driver.find_element(*lnd_login_email).send_keys(email)\n",
    "    #Fill password\n",
    "    driver.find_element(*lnd_login_password).send_keys(password)\n",
    "    #Click submit \"Login\" button\n",
    "    driver.find_element(*lnd_login_secondary_btn).click()\n",
    "    wait.until(EC.invisibility_of_element(lnd_login_main_btn))\n",
    "\n",
    "    return print('login_complete')\n"
   ]
  },
  {
   "cell_type": "code",
   "execution_count": 55,
   "metadata": {},
   "outputs": [],
   "source": [
    "## Get daily gold flow\n",
    "\n",
    "# Perform login flow\n",
    "def get_daily_rewards_flow():\n",
    "    login_flow()\n",
    "    # Click on rewards chest\n",
    "    driver.find_element(*lnd_rewards_calendar_icon).click()\n",
    "    #Click on get daily reward\n",
    "    wait.until(EC.presence_of_element_located(lnd_claim_reward_btn))\n",
    "    driver.find_element(*lnd_claim_reward_btn).click()\n",
    "\n",
    "    return print('Daily reward claimed')\n"
   ]
  },
  {
   "cell_type": "code",
   "execution_count": 78,
   "metadata": {},
   "outputs": [
    {
     "name": "stdout",
     "output_type": "stream",
     "text": [
      "login_complete\n"
     ]
    }
   ],
   "source": []
  },
  {
   "cell_type": "code",
   "execution_count": 148,
   "metadata": {},
   "outputs": [],
   "source": [
    "#print(driver.page_source)\n",
    "#wait.until(EC.presence_of_element_located(start_iframe))\n",
    "iframe = driver.find_element(*start_iframe)\n",
    "iframe_center = {\"x\":iframe.size['width']/2, \n",
    "                 \"y\":iframe.size['height']/2}\n",
    "game_log_in_btn = {\"x\":iframe_center['x'],\n",
    "                   \"y\":iframe_center['y']*2/3}"
   ]
  },
  {
   "cell_type": "code",
   "execution_count": 139,
   "metadata": {},
   "outputs": [],
   "source": [
    "#driver.switch_to.frame(iframe)"
   ]
  },
  {
   "cell_type": "code",
   "execution_count": 146,
   "metadata": {},
   "outputs": [],
   "source": [
    "driver.fullscreen_window()"
   ]
  },
  {
   "cell_type": "code",
   "execution_count": 151,
   "metadata": {},
   "outputs": [],
   "source": [
    "#action.move_to_element(iframe).click().perform()\n",
    "#action.move_to_element_with_offset(iframe,0,-iframe_center['y']*2/3).context_click().perform()\n",
    "action.move_to_element_with_offset(iframe,0,game_log_in_btn['y']).click().perform()"
   ]
  },
  {
   "cell_type": "code",
   "execution_count": 152,
   "metadata": {},
   "outputs": [],
   "source": [
    "driver.close()"
   ]
  },
  {
   "cell_type": "code",
   "execution_count": null,
   "metadata": {},
   "outputs": [],
   "source": []
  }
 ],
 "metadata": {
  "kernelspec": {
   "display_name": "Python 3",
   "language": "python",
   "name": "python3"
  },
  "language_info": {
   "codemirror_mode": {
    "name": "ipython",
    "version": 3
   },
   "file_extension": ".py",
   "mimetype": "text/x-python",
   "name": "python",
   "nbconvert_exporter": "python",
   "pygments_lexer": "ipython3",
   "version": "3.11.7"
  }
 },
 "nbformat": 4,
 "nbformat_minor": 2
}
